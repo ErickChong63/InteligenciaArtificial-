{
  "nbformat": 4,
  "nbformat_minor": 0,
  "metadata": {
    "colab": {
      "provenance": [],
      "collapsed_sections": []
    },
    "kernelspec": {
      "name": "python3",
      "display_name": "Python 3"
    },
    "language_info": {
      "name": "python"
    }
  },
  "cells": [
    {
      "cell_type": "markdown",
      "source": [
        "# Ejercicios en Python 1\n",
        "Erick Daniel Chong Marines 1927455 N1"
      ],
      "metadata": {
        "id": "8XG2xo35xjaE"
      }
    },
    {
      "cell_type": "code",
      "source": [
        "print(\"¿Cual es tu nombre??\")\n",
        "nombre = input()\n",
        "if (nombre == \"Ana\" or nombre == \"Pedro\" or nombre == \"Juan\"):\n",
        "  print(\"¡Holaa, bienvenido!\")\n",
        "else:\n",
        "  print(\"¡Holaaa, bienvenido! \" + nombre)\n"
      ],
      "metadata": {
        "colab": {
          "base_uri": "https://localhost:8080/"
        },
        "id": "XPz8XB0KudJ8",
        "outputId": "2dab94fe-f275-4470-e605-7dad0a9db3f3"
      },
      "execution_count": 43,
      "outputs": [
        {
          "output_type": "stream",
          "name": "stdout",
          "text": [
            "¿Cual es tu nombre??\n",
            "Erick\n",
            "¡Holaaa, bienvenido! Erick\n"
          ]
        }
      ]
    },
    {
      "cell_type": "code",
      "source": [
        "print(\">La lista en orden es:\")\n",
        "numbers = list(range(0, 6, 1))\n",
        "print(numbers)\n",
        "\n",
        "print(\">La lista invertida es:\")\n",
        "numbers = list(range(5, -1, -1))\n",
        "print(numbers) \n",
        "print(\"El ultimo valor es 5\")"
      ],
      "metadata": {
        "colab": {
          "base_uri": "https://localhost:8080/"
        },
        "id": "ixjF82roYscD",
        "outputId": "782be2dc-8f67-41d1-d3a3-f3109fcf3f66"
      },
      "execution_count": 44,
      "outputs": [
        {
          "output_type": "stream",
          "name": "stdout",
          "text": [
            ">La lista en orden es:\n",
            "[0, 1, 2, 3, 4, 5]\n",
            ">La lista invertida es:\n",
            "[5, 4, 3, 2, 1, 0]\n",
            "El ultimo valor es 5\n"
          ]
        }
      ]
    },
    {
      "cell_type": "code",
      "source": [
        "print(\"*********\")\n",
        "print(\"*  Hola *\")\n",
        "print(\"*   a   *\")\n",
        "print(\"* todos *\")\n",
        "print(\"* esto  *\")\n",
        "print(\"*  es   *\")\n",
        "print(\"*  un   *\")\n",
        "print(\"* marco *\")\n",
        "print(\"*********\")\n"
      ],
      "metadata": {
        "colab": {
          "base_uri": "https://localhost:8080/"
        },
        "id": "q7AgcBngWzMM",
        "outputId": "8bf3e873-38aa-43e9-bae4-545f7d0be913"
      },
      "execution_count": 45,
      "outputs": [
        {
          "output_type": "stream",
          "name": "stdout",
          "text": [
            "*********\n",
            "*  Hola *\n",
            "*   a   *\n",
            "* todos *\n",
            "* esto  *\n",
            "*  es   *\n",
            "*  un   *\n",
            "* marco *\n",
            "*********\n"
          ]
        }
      ]
    }
  ]
}